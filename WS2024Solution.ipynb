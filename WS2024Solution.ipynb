{
 "cells": [
  {
   "cell_type": "code",
   "execution_count": 38,
   "id": "b1c00aab",
   "metadata": {},
   "outputs": [],
   "source": [
    "import pandas as pd"
   ]
  },
  {
   "cell_type": "code",
   "execution_count": 39,
   "id": "35a13e60",
   "metadata": {},
   "outputs": [],
   "source": [
    "expenses = pd.read_csv('PycharmProjects\\WEB\\world skills part 1\\expenses.csv')"
   ]
  },
  {
   "cell_type": "code",
   "execution_count": 40,
   "id": "a94b8cd6",
   "metadata": {},
   "outputs": [
    {
     "data": {
      "text/html": [
       "<div>\n",
       "<style scoped>\n",
       "    .dataframe tbody tr th:only-of-type {\n",
       "        vertical-align: middle;\n",
       "    }\n",
       "\n",
       "    .dataframe tbody tr th {\n",
       "        vertical-align: top;\n",
       "    }\n",
       "\n",
       "    .dataframe thead th {\n",
       "        text-align: right;\n",
       "    }\n",
       "</style>\n",
       "<table border=\"1\" class=\"dataframe\">\n",
       "  <thead>\n",
       "    <tr style=\"text-align: right;\">\n",
       "      <th></th>\n",
       "      <th>dt</th>\n",
       "      <th>Channel</th>\n",
       "      <th>costs</th>\n",
       "    </tr>\n",
       "  </thead>\n",
       "  <tbody>\n",
       "    <tr>\n",
       "      <th>0</th>\n",
       "      <td>2022-05-01</td>\n",
       "      <td>FaceBoom</td>\n",
       "      <td>113.3</td>\n",
       "    </tr>\n",
       "    <tr>\n",
       "      <th>1</th>\n",
       "      <td>2022-05-02</td>\n",
       "      <td>FaceBoom</td>\n",
       "      <td>78.1</td>\n",
       "    </tr>\n",
       "    <tr>\n",
       "      <th>2</th>\n",
       "      <td>2022-05-03</td>\n",
       "      <td>FaceBoom</td>\n",
       "      <td>85.8</td>\n",
       "    </tr>\n",
       "    <tr>\n",
       "      <th>3</th>\n",
       "      <td>2022-05-04</td>\n",
       "      <td>FaceBoom</td>\n",
       "      <td>136.4</td>\n",
       "    </tr>\n",
       "    <tr>\n",
       "      <th>4</th>\n",
       "      <td>2022-05-05</td>\n",
       "      <td>FaceBoom</td>\n",
       "      <td>122.1</td>\n",
       "    </tr>\n",
       "    <tr>\n",
       "      <th>...</th>\n",
       "      <td>...</td>\n",
       "      <td>...</td>\n",
       "      <td>...</td>\n",
       "    </tr>\n",
       "    <tr>\n",
       "      <th>1795</th>\n",
       "      <td>2022-10-23</td>\n",
       "      <td>lambdaMediaAds</td>\n",
       "      <td>4.0</td>\n",
       "    </tr>\n",
       "    <tr>\n",
       "      <th>1796</th>\n",
       "      <td>2022-10-24</td>\n",
       "      <td>lambdaMediaAds</td>\n",
       "      <td>6.4</td>\n",
       "    </tr>\n",
       "    <tr>\n",
       "      <th>1797</th>\n",
       "      <td>2022-10-25</td>\n",
       "      <td>lambdaMediaAds</td>\n",
       "      <td>8.8</td>\n",
       "    </tr>\n",
       "    <tr>\n",
       "      <th>1798</th>\n",
       "      <td>2022-10-26</td>\n",
       "      <td>lambdaMediaAds</td>\n",
       "      <td>8.8</td>\n",
       "    </tr>\n",
       "    <tr>\n",
       "      <th>1799</th>\n",
       "      <td>2022-10-27</td>\n",
       "      <td>lambdaMediaAds</td>\n",
       "      <td>12.0</td>\n",
       "    </tr>\n",
       "  </tbody>\n",
       "</table>\n",
       "<p>1800 rows × 3 columns</p>\n",
       "</div>"
      ],
      "text/plain": [
       "              dt         Channel  costs\n",
       "0     2022-05-01        FaceBoom  113.3\n",
       "1     2022-05-02        FaceBoom   78.1\n",
       "2     2022-05-03        FaceBoom   85.8\n",
       "3     2022-05-04        FaceBoom  136.4\n",
       "4     2022-05-05        FaceBoom  122.1\n",
       "...          ...             ...    ...\n",
       "1795  2022-10-23  lambdaMediaAds    4.0\n",
       "1796  2022-10-24  lambdaMediaAds    6.4\n",
       "1797  2022-10-25  lambdaMediaAds    8.8\n",
       "1798  2022-10-26  lambdaMediaAds    8.8\n",
       "1799  2022-10-27  lambdaMediaAds   12.0\n",
       "\n",
       "[1800 rows x 3 columns]"
      ]
     },
     "execution_count": 40,
     "metadata": {},
     "output_type": "execute_result"
    }
   ],
   "source": [
    "expenses"
   ]
  },
  {
   "cell_type": "code",
   "execution_count": 41,
   "id": "154dbd87",
   "metadata": {},
   "outputs": [
    {
     "name": "stdout",
     "output_type": "stream",
     "text": [
      "<class 'pandas.core.frame.DataFrame'>\n",
      "RangeIndex: 1800 entries, 0 to 1799\n",
      "Data columns (total 3 columns):\n",
      " #   Column   Non-Null Count  Dtype  \n",
      "---  ------   --------------  -----  \n",
      " 0   dt       1800 non-null   object \n",
      " 1   Channel  1800 non-null   object \n",
      " 2   costs    1800 non-null   float64\n",
      "dtypes: float64(1), object(2)\n",
      "memory usage: 42.3+ KB\n"
     ]
    }
   ],
   "source": [
    "expenses.info()"
   ]
  },
  {
   "cell_type": "code",
   "execution_count": 42,
   "id": "aea32e1e",
   "metadata": {},
   "outputs": [],
   "source": [
    "expenses['dt'] = pd.to_datetime(expenses['dt'])"
   ]
  },
  {
   "cell_type": "code",
   "execution_count": 43,
   "id": "b7ca4a38",
   "metadata": {},
   "outputs": [
    {
     "name": "stdout",
     "output_type": "stream",
     "text": [
      "<class 'pandas.core.frame.DataFrame'>\n",
      "RangeIndex: 1800 entries, 0 to 1799\n",
      "Data columns (total 3 columns):\n",
      " #   Column   Non-Null Count  Dtype         \n",
      "---  ------   --------------  -----         \n",
      " 0   dt       1800 non-null   datetime64[ns]\n",
      " 1   Channel  1800 non-null   object        \n",
      " 2   costs    1800 non-null   float64       \n",
      "dtypes: datetime64[ns](1), float64(1), object(1)\n",
      "memory usage: 42.3+ KB\n"
     ]
    }
   ],
   "source": [
    "expenses.info()"
   ]
  },
  {
   "cell_type": "code",
   "execution_count": 44,
   "id": "a8a13720",
   "metadata": {},
   "outputs": [
    {
     "data": {
      "text/plain": [
       "RocketSuperAds        180\n",
       "FaceBoom              180\n",
       "LeapBob               180\n",
       "AdNonSense            180\n",
       "lambdaMediaAds        180\n",
       "WahooNetBanner        180\n",
       "TipTop                180\n",
       "MediaTornado          180\n",
       "YRabbit               180\n",
       "OppleCreativeMedia    180\n",
       "Name: Channel, dtype: int64"
      ]
     },
     "execution_count": 44,
     "metadata": {},
     "output_type": "execute_result"
    }
   ],
   "source": [
    "expenses['Channel'].value_counts()"
   ]
  },
  {
   "cell_type": "code",
   "execution_count": 45,
   "id": "b0522d22",
   "metadata": {},
   "outputs": [
    {
     "data": {
      "text/plain": [
       "{'lambdaMediaAds': 0,\n",
       " 'FaceBoom': 1,\n",
       " 'MediaTornado': 2,\n",
       " 'WahooNetBanner': 3,\n",
       " 'RocketSuperAds': 4,\n",
       " 'AdNonSense': 5,\n",
       " 'YRabbit': 6,\n",
       " 'LeapBob': 7,\n",
       " 'OppleCreativeMedia': 8,\n",
       " 'TipTop': 9}"
      ]
     },
     "execution_count": 45,
     "metadata": {},
     "output_type": "execute_result"
    }
   ],
   "source": [
    "mapping = {}\n",
    "for i, j in enumerate(set(expenses['Channel'])):\n",
    "    mapping[j] = i\n",
    "mapping"
   ]
  },
  {
   "cell_type": "code",
   "execution_count": 47,
   "id": "05cd5ef9",
   "metadata": {},
   "outputs": [],
   "source": [
    "expenses['Channel'] = expenses['Channel'].map(mapping)"
   ]
  },
  {
   "cell_type": "code",
   "execution_count": 49,
   "id": "8f22bdb4",
   "metadata": {},
   "outputs": [
    {
     "name": "stdout",
     "output_type": "stream",
     "text": [
      "<class 'pandas.core.frame.DataFrame'>\n",
      "RangeIndex: 1800 entries, 0 to 1799\n",
      "Data columns (total 3 columns):\n",
      " #   Column   Non-Null Count  Dtype         \n",
      "---  ------   --------------  -----         \n",
      " 0   dt       1800 non-null   datetime64[ns]\n",
      " 1   Channel  1800 non-null   int64         \n",
      " 2   costs    1800 non-null   float64       \n",
      "dtypes: datetime64[ns](1), float64(1), int64(1)\n",
      "memory usage: 42.3 KB\n"
     ]
    }
   ],
   "source": [
    "expenses.info()"
   ]
  },
  {
   "cell_type": "code",
   "execution_count": 50,
   "id": "24000a68",
   "metadata": {},
   "outputs": [
    {
     "data": {
      "text/plain": [
       "0    180\n",
       "1    180\n",
       "2    180\n",
       "3    180\n",
       "4    180\n",
       "5    180\n",
       "6    180\n",
       "7    180\n",
       "8    180\n",
       "9    180\n",
       "Name: Channel, dtype: int64"
      ]
     },
     "execution_count": 50,
     "metadata": {},
     "output_type": "execute_result"
    }
   ],
   "source": [
    "expenses['Channel'].value_counts()"
   ]
  },
  {
   "cell_type": "code",
   "execution_count": null,
   "id": "459ee55a",
   "metadata": {},
   "outputs": [],
   "source": []
  }
 ],
 "metadata": {
  "kernelspec": {
   "display_name": "Python 3",
   "language": "python",
   "name": "python3"
  },
  "language_info": {
   "codemirror_mode": {
    "name": "ipython",
    "version": 3
   },
   "file_extension": ".py",
   "mimetype": "text/x-python",
   "name": "python",
   "nbconvert_exporter": "python",
   "pygments_lexer": "ipython3",
   "version": "3.8.8"
  }
 },
 "nbformat": 4,
 "nbformat_minor": 5
}
